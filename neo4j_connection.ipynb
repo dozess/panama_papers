{
  "nbformat": 4,
  "nbformat_minor": 0,
  "metadata": {
    "colab": {
      "name": "neo4j_connection.ipynb",
      "version": "0.3.2",
      "provenance": [],
      "collapsed_sections": [],
      "toc_visible": true,
      "include_colab_link": true
    },
    "kernelspec": {
      "name": "python3",
      "display_name": "Python 3"
    }
  },
  "cells": [
    {
      "cell_type": "markdown",
      "metadata": {
        "id": "view-in-github",
        "colab_type": "text"
      },
      "source": [
        "[View in Colaboratory](https://colab.research.google.com/github/dozess/panama_papers/blob/master/neo4j_connection.ipynb)"
      ]
    },
    {
      "metadata": {
        "id": "elDK-qhI161P",
        "colab_type": "text"
      },
      "cell_type": "markdown",
      "source": [
        "# Install libraries"
      ]
    },
    {
      "metadata": {
        "id": "1hpTtHkDrdNY",
        "colab_type": "code",
        "colab": {
          "base_uri": "https://localhost:8080/",
          "height": 1278
        },
        "outputId": "aa947626-7109-42c8-9fea-dfc717e5f570"
      },
      "cell_type": "code",
      "source": [
        "!pip install jupyter_contrib_nbextensions\n",
        "!pip install py2neo\n",
        "#!pip install node2vec\n",
        "!pip install jgraph\n",
        "#!pip install metapath2vec\n",
        "#!pip install gem\n",
        "#!pip install scripts.vis"
      ],
      "execution_count": 0,
      "outputs": [
        {
          "output_type": "stream",
          "text": [
            "Requirement already satisfied: jupyter_contrib_nbextensions in /usr/local/lib/python3.6/dist-packages (0.5.0)\r\n",
            "Requirement already satisfied: pyyaml in /usr/local/lib/python3.6/dist-packages (from jupyter_contrib_nbextensions) (3.12)\r\n",
            "Requirement already satisfied: nbconvert>=4.2 in /usr/local/lib/python3.6/dist-packages (from jupyter_contrib_nbextensions) (5.3.1)\n",
            "Requirement already satisfied: jupyter-highlight-selected-word>=0.1.1 in /usr/local/lib/python3.6/dist-packages (from jupyter_contrib_nbextensions) (0.2.0)\n",
            "Requirement already satisfied: traitlets>=4.1 in /usr/local/lib/python3.6/dist-packages (from jupyter_contrib_nbextensions) (4.3.2)\n",
            "Requirement already satisfied: jupyter-core in /usr/local/lib/python3.6/dist-packages (from jupyter_contrib_nbextensions) (4.4.0)\n",
            "Requirement already satisfied: jupyter-contrib-core>=0.3.3 in /usr/local/lib/python3.6/dist-packages (from jupyter_contrib_nbextensions) (0.3.3)\n",
            "Requirement already satisfied: ipython-genutils in /usr/local/lib/python3.6/dist-packages (from jupyter_contrib_nbextensions) (0.2.0)\n",
            "Requirement already satisfied: jupyter-latex-envs>=1.3.8 in /usr/local/lib/python3.6/dist-packages (from jupyter_contrib_nbextensions) (1.4.4)\n",
            "Requirement already satisfied: jupyter-nbextensions-configurator>=0.4.0 in /usr/local/lib/python3.6/dist-packages (from jupyter_contrib_nbextensions) (0.4.0)\n",
            "Requirement already satisfied: notebook>=4.0 in /usr/local/lib/python3.6/dist-packages (from jupyter_contrib_nbextensions) (5.2.2)\n",
            "Requirement already satisfied: tornado in /usr/local/lib/python3.6/dist-packages (from jupyter_contrib_nbextensions) (4.5.3)\n",
            "Requirement already satisfied: lxml in /usr/local/lib/python3.6/dist-packages (from jupyter_contrib_nbextensions) (4.2.3)\n",
            "Requirement already satisfied: jinja2 in /usr/local/lib/python3.6/dist-packages (from nbconvert>=4.2->jupyter_contrib_nbextensions) (2.10)\n",
            "Requirement already satisfied: mistune>=0.7.4 in /usr/local/lib/python3.6/dist-packages (from nbconvert>=4.2->jupyter_contrib_nbextensions) (0.8.3)\n",
            "Requirement already satisfied: pygments in /usr/local/lib/python3.6/dist-packages (from nbconvert>=4.2->jupyter_contrib_nbextensions) (2.1.3)\n",
            "Requirement already satisfied: testpath in /usr/local/lib/python3.6/dist-packages (from nbconvert>=4.2->jupyter_contrib_nbextensions) (0.3.1)\n",
            "Requirement already satisfied: entrypoints>=0.2.2 in /usr/local/lib/python3.6/dist-packages (from nbconvert>=4.2->jupyter_contrib_nbextensions) (0.2.3)\n",
            "Requirement already satisfied: bleach in /usr/local/lib/python3.6/dist-packages (from nbconvert>=4.2->jupyter_contrib_nbextensions) (2.1.3)\n",
            "Requirement already satisfied: pandocfilters>=1.4.1 in /usr/local/lib/python3.6/dist-packages (from nbconvert>=4.2->jupyter_contrib_nbextensions) (1.4.2)\n",
            "Requirement already satisfied: nbformat>=4.4 in /usr/local/lib/python3.6/dist-packages (from nbconvert>=4.2->jupyter_contrib_nbextensions) (4.4.0)\n",
            "Requirement already satisfied: six in /usr/local/lib/python3.6/dist-packages (from traitlets>=4.1->jupyter_contrib_nbextensions) (1.11.0)\n",
            "Requirement already satisfied: decorator in /usr/local/lib/python3.6/dist-packages (from traitlets>=4.1->jupyter_contrib_nbextensions) (4.3.0)\n",
            "Requirement already satisfied: setuptools in /usr/local/lib/python3.6/dist-packages (from jupyter-contrib-core>=0.3.3->jupyter_contrib_nbextensions) (39.1.0)\n",
            "Requirement already satisfied: ipython in /usr/local/lib/python3.6/dist-packages (from jupyter-latex-envs>=1.3.8->jupyter_contrib_nbextensions) (5.5.0)\n",
            "Requirement already satisfied: jupyter-client in /usr/local/lib/python3.6/dist-packages (from notebook>=4.0->jupyter_contrib_nbextensions) (5.2.3)\n",
            "Requirement already satisfied: ipykernel in /usr/local/lib/python3.6/dist-packages (from notebook>=4.0->jupyter_contrib_nbextensions) (4.6.1)\n",
            "Requirement already satisfied: terminado>=0.3.3; sys_platform != \"win32\" in /usr/local/lib/python3.6/dist-packages (from notebook>=4.0->jupyter_contrib_nbextensions) (0.8.1)\n",
            "Requirement already satisfied: MarkupSafe>=0.23 in /usr/local/lib/python3.6/dist-packages (from jinja2->nbconvert>=4.2->jupyter_contrib_nbextensions) (1.0)\n",
            "Requirement already satisfied: html5lib!=1.0b1,!=1.0b2,!=1.0b3,!=1.0b4,!=1.0b5,!=1.0b6,!=1.0b7,!=1.0b8,>=0.99999999pre in /usr/local/lib/python3.6/dist-packages (from bleach->nbconvert>=4.2->jupyter_contrib_nbextensions) (1.0.1)\n",
            "Requirement already satisfied: jsonschema!=2.5.0,>=2.4 in /usr/local/lib/python3.6/dist-packages (from nbformat>=4.4->nbconvert>=4.2->jupyter_contrib_nbextensions) (2.6.0)\n",
            "Requirement already satisfied: pickleshare in /usr/local/lib/python3.6/dist-packages (from ipython->jupyter-latex-envs>=1.3.8->jupyter_contrib_nbextensions) (0.7.4)\n",
            "Requirement already satisfied: simplegeneric>0.8 in /usr/local/lib/python3.6/dist-packages (from ipython->jupyter-latex-envs>=1.3.8->jupyter_contrib_nbextensions) (0.8.1)\n",
            "Requirement already satisfied: prompt-toolkit<2.0.0,>=1.0.4 in /usr/local/lib/python3.6/dist-packages (from ipython->jupyter-latex-envs>=1.3.8->jupyter_contrib_nbextensions) (1.0.15)\n",
            "Requirement already satisfied: pexpect; sys_platform != \"win32\" in /usr/local/lib/python3.6/dist-packages (from ipython->jupyter-latex-envs>=1.3.8->jupyter_contrib_nbextensions) (4.6.0)\n",
            "Requirement already satisfied: python-dateutil>=2.1 in /usr/local/lib/python3.6/dist-packages (from jupyter-client->notebook>=4.0->jupyter_contrib_nbextensions) (2.5.3)\n",
            "Requirement already satisfied: pyzmq>=13 in /usr/local/lib/python3.6/dist-packages (from jupyter-client->notebook>=4.0->jupyter_contrib_nbextensions) (16.0.4)\n",
            "Requirement already satisfied: ptyprocess; os_name != \"nt\" in /usr/local/lib/python3.6/dist-packages (from terminado>=0.3.3; sys_platform != \"win32\"->notebook>=4.0->jupyter_contrib_nbextensions) (0.6.0)\n",
            "Requirement already satisfied: webencodings in /usr/local/lib/python3.6/dist-packages (from html5lib!=1.0b1,!=1.0b2,!=1.0b3,!=1.0b4,!=1.0b5,!=1.0b6,!=1.0b7,!=1.0b8,>=0.99999999pre->bleach->nbconvert>=4.2->jupyter_contrib_nbextensions) (0.5.1)\n",
            "Requirement already satisfied: wcwidth in /usr/local/lib/python3.6/dist-packages (from prompt-toolkit<2.0.0,>=1.0.4->ipython->jupyter-latex-envs>=1.3.8->jupyter_contrib_nbextensions) (0.1.7)\n",
            "Requirement already satisfied: py2neo in /usr/local/lib/python3.6/dist-packages (4.0.0)\n",
            "Requirement already satisfied: colorama in /usr/local/lib/python3.6/dist-packages (from py2neo) (0.3.9)\n",
            "Requirement already satisfied: click>=2.0 in /usr/local/lib/python3.6/dist-packages (from py2neo) (6.7)\n",
            "Requirement already satisfied: prompt-toolkit==1.0.15 in /usr/local/lib/python3.6/dist-packages (from py2neo) (1.0.15)\n",
            "Requirement already satisfied: urllib3[secure] in /usr/local/lib/python3.6/dist-packages (from py2neo) (1.22)\n",
            "Requirement already satisfied: neo4j-driver>=1.6.0 in /usr/local/lib/python3.6/dist-packages (from py2neo) (1.6.0)\n",
            "Requirement already satisfied: pygments>=2.0 in /usr/local/lib/python3.6/dist-packages (from py2neo) (2.1.3)\n",
            "Requirement already satisfied: pytest in /usr/local/lib/python3.6/dist-packages (from py2neo) (3.6.2)\n",
            "Requirement already satisfied: wcwidth in /usr/local/lib/python3.6/dist-packages (from prompt-toolkit==1.0.15->py2neo) (0.1.7)\n",
            "Requirement already satisfied: six>=1.9.0 in /usr/local/lib/python3.6/dist-packages (from prompt-toolkit==1.0.15->py2neo) (1.11.0)\n",
            "Requirement already satisfied: certifi; extra == \"secure\" in /usr/local/lib/python3.6/dist-packages (from urllib3[secure]->py2neo) (2018.4.16)\n",
            "Requirement already satisfied: neotime==1.0.0 in /usr/local/lib/python3.6/dist-packages (from neo4j-driver>=1.6.0->py2neo) (1.0.0)\n",
            "Requirement already satisfied: py>=1.5.0 in /usr/local/lib/python3.6/dist-packages (from pytest->py2neo) (1.5.4)\n",
            "Requirement already satisfied: attrs>=17.4.0 in /usr/local/lib/python3.6/dist-packages (from pytest->py2neo) (18.1.0)\n",
            "Requirement already satisfied: more-itertools>=4.0.0 in /usr/local/lib/python3.6/dist-packages (from pytest->py2neo) (4.2.0)\n",
            "Requirement already satisfied: atomicwrites>=1.0 in /usr/local/lib/python3.6/dist-packages (from pytest->py2neo) (1.1.5)\n",
            "Requirement already satisfied: setuptools in /usr/local/lib/python3.6/dist-packages (from pytest->py2neo) (39.1.0)\n",
            "Requirement already satisfied: pluggy<0.7,>=0.5 in /usr/local/lib/python3.6/dist-packages (from pytest->py2neo) (0.6.0)\n",
            "Requirement already satisfied: pytz in /usr/local/lib/python3.6/dist-packages (from neotime==1.0.0->neo4j-driver>=1.6.0->py2neo) (2018.4)\n",
            "Requirement already satisfied: jgraph in /usr/local/lib/python3.6/dist-packages (0.2.1)\n",
            "Requirement already satisfied: ipython in /usr/local/lib/python3.6/dist-packages (from jgraph) (5.5.0)\n",
            "Requirement already satisfied: simplegeneric>0.8 in /usr/local/lib/python3.6/dist-packages (from ipython->jgraph) (0.8.1)\n",
            "Requirement already satisfied: pygments in /usr/local/lib/python3.6/dist-packages (from ipython->jgraph) (2.1.3)\n",
            "Requirement already satisfied: setuptools>=18.5 in /usr/local/lib/python3.6/dist-packages (from ipython->jgraph) (39.1.0)\n",
            "Requirement already satisfied: prompt-toolkit<2.0.0,>=1.0.4 in /usr/local/lib/python3.6/dist-packages (from ipython->jgraph) (1.0.15)\n",
            "Requirement already satisfied: pexpect; sys_platform != \"win32\" in /usr/local/lib/python3.6/dist-packages (from ipython->jgraph) (4.6.0)\n",
            "Requirement already satisfied: pickleshare in /usr/local/lib/python3.6/dist-packages (from ipython->jgraph) (0.7.4)\n",
            "Requirement already satisfied: traitlets>=4.2 in /usr/local/lib/python3.6/dist-packages (from ipython->jgraph) (4.3.2)\n",
            "Requirement already satisfied: decorator in /usr/local/lib/python3.6/dist-packages (from ipython->jgraph) (4.3.0)\n",
            "Requirement already satisfied: six>=1.9.0 in /usr/local/lib/python3.6/dist-packages (from prompt-toolkit<2.0.0,>=1.0.4->ipython->jgraph) (1.11.0)\n",
            "Requirement already satisfied: wcwidth in /usr/local/lib/python3.6/dist-packages (from prompt-toolkit<2.0.0,>=1.0.4->ipython->jgraph) (0.1.7)\n",
            "Requirement already satisfied: ptyprocess>=0.5 in /usr/local/lib/python3.6/dist-packages (from pexpect; sys_platform != \"win32\"->ipython->jgraph) (0.6.0)\n",
            "Requirement already satisfied: ipython-genutils in /usr/local/lib/python3.6/dist-packages (from traitlets>=4.2->ipython->jgraph) (0.2.0)\n"
          ],
          "name": "stdout"
        }
      ]
    },
    {
      "metadata": {
        "id": "A0eind1s7rJ4",
        "colab_type": "text"
      },
      "cell_type": "markdown",
      "source": [
        "#Load libraries"
      ]
    },
    {
      "metadata": {
        "id": "fpD1XWiGpfXX",
        "colab_type": "code",
        "colab": {}
      },
      "cell_type": "code",
      "source": [
        "#@title Neo4j sandbox setup\n",
        "import pandas as pd\n",
        "import numpy as np \n",
        "from py2neo import Graph\n",
        "import jgraph"
      ],
      "execution_count": 0,
      "outputs": []
    },
    {
      "metadata": {
        "id": "N0bkULtm2D2u",
        "colab_type": "text"
      },
      "cell_type": "markdown",
      "source": [
        "# Conect to Neo4j "
      ]
    },
    {
      "metadata": {
        "id": "Nz6D-Jnx2_G5",
        "colab_type": "code",
        "colab": {}
      },
      "cell_type": "code",
      "source": [
        "#@title Default title text { vertical-output: true, display-mode: \"both\" }\n",
        "IP = \"54.84.177.94\" #@param {type:\"string\"}\n",
        "Bolt_port = 35172 #@param {type:\"integer\"}\n",
        "Password = \"appellate-conventions-speed\" #@param {type:\"string\"}\n",
        "# Some of these keyword arguments are unnecessary, as they are the default values.\n",
        "\n",
        "graph = Graph('bolt://{}:{}'.format(IP,Bolt_port), user='neo4j', password=Password)\n",
        "\n"
      ],
      "execution_count": 0,
      "outputs": []
    },
    {
      "metadata": {
        "id": "reGTc6Mn6_pK",
        "colab_type": "text"
      },
      "cell_type": "markdown",
      "source": [
        "#Load some data to data frame\n"
      ]
    },
    {
      "metadata": {
        "id": "rPT9oAXt92-G",
        "colab_type": "code",
        "colab": {
          "base_uri": "https://localhost:8080/",
          "height": 204
        },
        "outputId": "fc3d8ee4-f138-4c3d-e6e6-4a0b31baaa01"
      },
      "cell_type": "code",
      "source": [
        "\n",
        "#df = pd.DataFrame(graph2.run(query))\n",
        "gr=graph.run(\"MATCH (a)--(b) where id(a)<id(b) RETURN a.node_id AS node_from, b.node_id as node_to\").data()\n",
        "df = pd.DataFrame(gr)\n",
        "df.head()"
      ],
      "execution_count": 0,
      "outputs": [
        {
          "output_type": "execute_result",
          "data": {
            "text/html": [
              "<div>\n",
              "<style scoped>\n",
              "    .dataframe tbody tr th:only-of-type {\n",
              "        vertical-align: middle;\n",
              "    }\n",
              "\n",
              "    .dataframe tbody tr th {\n",
              "        vertical-align: top;\n",
              "    }\n",
              "\n",
              "    .dataframe thead th {\n",
              "        text-align: right;\n",
              "    }\n",
              "</style>\n",
              "<table border=\"1\" class=\"dataframe\">\n",
              "  <thead>\n",
              "    <tr style=\"text-align: right;\">\n",
              "      <th></th>\n",
              "      <th>node_from</th>\n",
              "      <th>node_to</th>\n",
              "    </tr>\n",
              "  </thead>\n",
              "  <tbody>\n",
              "    <tr>\n",
              "      <th>0</th>\n",
              "      <td>14047687</td>\n",
              "      <td>67446</td>\n",
              "    </tr>\n",
              "    <tr>\n",
              "      <th>1</th>\n",
              "      <td>14018610</td>\n",
              "      <td>68705</td>\n",
              "    </tr>\n",
              "    <tr>\n",
              "      <th>2</th>\n",
              "      <td>14007394</td>\n",
              "      <td>107804</td>\n",
              "    </tr>\n",
              "    <tr>\n",
              "      <th>3</th>\n",
              "      <td>14047687</td>\n",
              "      <td>107920</td>\n",
              "    </tr>\n",
              "    <tr>\n",
              "      <th>4</th>\n",
              "      <td>14028528</td>\n",
              "      <td>68948</td>\n",
              "    </tr>\n",
              "  </tbody>\n",
              "</table>\n",
              "</div>"
            ],
            "text/plain": [
              "  node_from node_to\n",
              "0  14047687   67446\n",
              "1  14018610   68705\n",
              "2  14007394  107804\n",
              "3  14047687  107920\n",
              "4  14028528   68948"
            ]
          },
          "metadata": {
            "tags": []
          },
          "execution_count": 16
        }
      ]
    },
    {
      "metadata": {
        "id": "Q-g-tevZ-NXv",
        "colab_type": "code",
        "colab": {
          "base_uri": "https://localhost:8080/",
          "height": 35
        },
        "outputId": "8a87c465-b70d-4676-f6e1-1f2ecfa87fd5"
      },
      "cell_type": "code",
      "source": [
        "df.shape"
      ],
      "execution_count": 0,
      "outputs": [
        {
          "output_type": "execute_result",
          "data": {
            "text/plain": [
              "(364456, 2)"
            ]
          },
          "metadata": {
            "tags": []
          },
          "execution_count": 6
        }
      ]
    },
    {
      "metadata": {
        "id": "uKseIswk7RAe",
        "colab_type": "text"
      },
      "cell_type": "markdown",
      "source": [
        "#Load som data to jgraph visualisation"
      ]
    },
    {
      "metadata": {
        "id": "jCwotFkg7Z2O",
        "colab_type": "text"
      },
      "cell_type": "markdown",
      "source": [
        "## Manipulations"
      ]
    },
    {
      "metadata": {
        "id": "eg0X1oja4yjZ",
        "colab_type": "code",
        "colab": {
          "base_uri": "https://localhost:8080/",
          "height": 204
        },
        "outputId": "48df6c82-149e-413a-921c-482d2c320f40"
      },
      "cell_type": "code",
      "source": [
        "\n",
        "data=graph.run(\"MATCH (a)-->(b) RETURN a.node_id as from, b.node_id as to limit 10\").data()\n",
        "for x in data: \n",
        "  jg+=[(x['from'],x['to'])]\n",
        "\n",
        "jg\n"
      ],
      "execution_count": 0,
      "outputs": [
        {
          "output_type": "execute_result",
          "data": {
            "text/plain": [
              "[('12000038', '14000007'),\n",
              " ('12013241', '14000001'),\n",
              " ('12002409', '14000002'),\n",
              " ('12000036', '14000003'),\n",
              " ('13012823', '14000004'),\n",
              " ('12000204', '14000004'),\n",
              " ('12000203', '14000004'),\n",
              " ('12000037', '14000005'),\n",
              " ('12000025', '14000006'),\n",
              " ('12000024', '14000006'),\n",
              " ('12000038', '14000007')]"
            ]
          },
          "metadata": {
            "tags": []
          },
          "execution_count": 42
        }
      ]
    },
    {
      "metadata": {
        "id": "iSSZ9SMjK-LP",
        "colab_type": "code",
        "colab": {
          "base_uri": "https://localhost:8080/",
          "height": 180
        },
        "outputId": "78b0c1a9-9717-4b69-c3c8-df0292fd1965"
      },
      "cell_type": "code",
      "source": [
        "for x in data: \n",
        "  print(x.value())"
      ],
      "execution_count": 0,
      "outputs": [
        {
          "output_type": "error",
          "ename": "AttributeError",
          "evalue": "ignored",
          "traceback": [
            "\u001b[0;31m---------------------------------------------------------------------------\u001b[0m",
            "\u001b[0;31mAttributeError\u001b[0m                            Traceback (most recent call last)",
            "\u001b[0;32m<ipython-input-41-0def01008187>\u001b[0m in \u001b[0;36m<module>\u001b[0;34m()\u001b[0m\n\u001b[1;32m      1\u001b[0m \u001b[0;32mfor\u001b[0m \u001b[0mx\u001b[0m \u001b[0;32min\u001b[0m \u001b[0mdata\u001b[0m\u001b[0;34m:\u001b[0m\u001b[0;34m\u001b[0m\u001b[0m\n\u001b[0;32m----> 2\u001b[0;31m   \u001b[0mprint\u001b[0m\u001b[0;34m(\u001b[0m\u001b[0mx\u001b[0m\u001b[0;34m.\u001b[0m\u001b[0mvalue\u001b[0m\u001b[0;34m(\u001b[0m\u001b[0;34m)\u001b[0m\u001b[0;34m)\u001b[0m\u001b[0;34m\u001b[0m\u001b[0m\n\u001b[0m",
            "\u001b[0;31mAttributeError\u001b[0m: 'dict' object has no attribute 'value'"
          ]
        }
      ]
    },
    {
      "metadata": {
        "id": "T7Ew9Qc4amu7",
        "colab_type": "code",
        "colab": {
          "base_uri": "https://localhost:8080/",
          "height": 187
        },
        "outputId": "ea6fb15e-30db-4a13-be89-a4dc84eea1c8"
      },
      "cell_type": "code",
      "source": [
        "data = [tuple(x) for x in data]\n",
        "data"
      ],
      "execution_count": 0,
      "outputs": [
        {
          "output_type": "execute_result",
          "data": {
            "text/plain": [
              "[('from', 'to'),\n",
              " ('from', 'to'),\n",
              " ('from', 'to'),\n",
              " ('from', 'to'),\n",
              " ('from', 'to'),\n",
              " ('from', 'to'),\n",
              " ('from', 'to'),\n",
              " ('from', 'to'),\n",
              " ('from', 'to'),\n",
              " ('from', 'to')]"
            ]
          },
          "metadata": {
            "tags": []
          },
          "execution_count": 27
        }
      ]
    },
    {
      "metadata": {
        "id": "P9W83kCl6hTa",
        "colab_type": "code",
        "colab": {
          "base_uri": "https://localhost:8080/",
          "height": 17
        },
        "outputId": "d0a35db3-a93e-4fa0-81ec-40fef09b3824"
      },
      "cell_type": "code",
      "source": [
        "jgraph.draw(data)\n"
      ],
      "execution_count": 0,
      "outputs": [
        {
          "output_type": "display_data",
          "data": {
            "text/html": [
              "<div id=\"graph-49b9df2e-baae-4394-8847-3f9851684410\"></div>\n",
              "           <script type=\"text/javascript\">\n",
              "           require.config({baseUrl: '/',\n",
              "                             paths: {jgraph: ['nbextensions/jgraph.min', 'https://rawgit.com/patrickfuller/jgraph/master/js/build/jgraph.min']}});\n",
              "           require(['jgraph'], function () {\n",
              "               var $d = $('#graph-49b9df2e-baae-4394-8847-3f9851684410');\n",
              "               $d.width(600); $d.height(400);\n",
              "               $d.jgraph = jQuery.extend({}, jgraph);\n",
              "               $d.jgraph.create($d, {nodeSize: 2.000000,\n",
              "                                     edgeSize: 0.250000,\n",
              "                                     defaultNodeColor: '0x5bc0de',\n",
              "                                     defaultEdgeColor: '0xaaaaaa',\n",
              "                                     shader: 'basic',\n",
              "                                     z: 100,\n",
              "                                     runOptimization: true,\n",
              "                                     directed: true,\n",
              "                                     showSave: false});\n",
              "               $d.jgraph.draw({\n",
              "    \"edges\": [\n",
              "        { \"source\": \"from\", \"target\": \"to\" },\n",
              "        { \"source\": \"from\", \"target\": \"to\" },\n",
              "        { \"source\": \"from\", \"target\": \"to\" },\n",
              "        { \"source\": \"from\", \"target\": \"to\" },\n",
              "        { \"source\": \"from\", \"target\": \"to\" },\n",
              "        { \"source\": \"from\", \"target\": \"to\" },\n",
              "        { \"source\": \"from\", \"target\": \"to\" },\n",
              "        { \"source\": \"from\", \"target\": \"to\" },\n",
              "        { \"source\": \"from\", \"target\": \"to\" },\n",
              "        { \"source\": \"from\", \"target\": \"to\" }\n",
              "    ],\n",
              "    \"nodes\": {\n",
              "        \"from\": { \"location\": [ 0.2642154242118579, 0.4199028193609863, 0.2744944142835292 ] },\n",
              "        \"to\": { \"location\": [ -0.2642154242118579, -0.4199028193609863, -0.2744944142835292 ] }\n",
              "    }\n",
              "});\n",
              "\n",
              "               $d.resizable({\n",
              "                   aspectRatio: 600 / 400,\n",
              "                   resize: function (evt, ui) {\n",
              "                       $d.jgraph.renderer.setSize(ui.size.width,\n",
              "                                                  ui.size.height);\n",
              "                   }\n",
              "               });\n",
              "           });\n",
              "           </script>"
            ],
            "text/plain": [
              "<IPython.core.display.HTML object>"
            ]
          },
          "metadata": {
            "tags": []
          }
        }
      ]
    },
    {
      "metadata": {
        "id": "pe1gVSGo7-J4",
        "colab_type": "text"
      },
      "cell_type": "markdown",
      "source": [
        "## JGraph sample"
      ]
    },
    {
      "metadata": {
        "id": "K9t9ND0lcGbb",
        "colab_type": "code",
        "colab": {
          "base_uri": "https://localhost:8080/",
          "height": 17
        },
        "outputId": "7274e503-ce63-462f-845d-252399853126"
      },
      "cell_type": "code",
      "source": [
        "jgraph.draw([(1, 2), (2, 3), (3, 4), (4, 1), (4, 5), (5, 2)])"
      ],
      "execution_count": 0,
      "outputs": [
        {
          "output_type": "display_data",
          "data": {
            "text/html": [
              "<div id=\"graph-1ea0926a-63cc-42b6-bcec-aec3d8724bbe\"></div>\n",
              "           <script type=\"text/javascript\">\n",
              "           require.config({baseUrl: '/',\n",
              "                             paths: {jgraph: ['nbextensions/jgraph.min', 'https://rawgit.com/patrickfuller/jgraph/master/js/build/jgraph.min']}});\n",
              "           require(['jgraph'], function () {\n",
              "               var $d = $('#graph-1ea0926a-63cc-42b6-bcec-aec3d8724bbe');\n",
              "               $d.width(600); $d.height(400);\n",
              "               $d.jgraph = jQuery.extend({}, jgraph);\n",
              "               $d.jgraph.create($d, {nodeSize: 2.000000,\n",
              "                                     edgeSize: 0.250000,\n",
              "                                     defaultNodeColor: '0x5bc0de',\n",
              "                                     defaultEdgeColor: '0xaaaaaa',\n",
              "                                     shader: 'basic',\n",
              "                                     z: 100,\n",
              "                                     runOptimization: true,\n",
              "                                     directed: true,\n",
              "                                     showSave: false});\n",
              "               $d.jgraph.draw({\n",
              "    \"edges\": [\n",
              "        { \"source\": 1, \"target\": 2 },\n",
              "        { \"source\": 2, \"target\": 3 },\n",
              "        { \"source\": 3, \"target\": 4 },\n",
              "        { \"source\": 4, \"target\": 1 },\n",
              "        { \"source\": 4, \"target\": 5 },\n",
              "        { \"source\": 5, \"target\": 2 }\n",
              "    ],\n",
              "    \"nodes\": {\n",
              "        \"1\": { \"location\": [ -2.0, -2.0, -2.0 ] },\n",
              "        \"2\": { \"location\": [ -0.7563300727170505, -1.169798097184047, -0.7984578871361112 ] },\n",
              "        \"3\": { \"location\": [ 0.39439859407556804, -0.2640915938626261, -0.08301748347477864 ] },\n",
              "        \"4\": { \"location\": [ 0.6119707976298644, 1.177844682045539, 1.2919604281196153 ] },\n",
              "        \"5\": { \"location\": [ 2.0, 2.0, 2.0 ] }\n",
              "    }\n",
              "});\n",
              "\n",
              "               $d.resizable({\n",
              "                   aspectRatio: 600 / 400,\n",
              "                   resize: function (evt, ui) {\n",
              "                       $d.jgraph.renderer.setSize(ui.size.width,\n",
              "                                                  ui.size.height);\n",
              "                   }\n",
              "               });\n",
              "           });\n",
              "           </script>"
            ],
            "text/plain": [
              "<IPython.core.display.HTML object>"
            ]
          },
          "metadata": {
            "tags": []
          }
        }
      ]
    },
    {
      "metadata": {
        "id": "uSBn81Yj8Feo",
        "colab_type": "text"
      },
      "cell_type": "markdown",
      "source": [
        "## JGraph colors sample"
      ]
    },
    {
      "metadata": {
        "id": "vIDPT-Erpd97",
        "colab_type": "code",
        "colab": {
          "base_uri": "https://localhost:8080/",
          "height": 197
        },
        "outputId": "82c99245-11b2-4ac4-e2cc-fd221e203a02"
      },
      "cell_type": "code",
      "source": [
        "graph = {\n",
        "    'nodes': {\n",
        "        'ross': {'color': 0xffaaaa, 'size': 2.0},\n",
        "        'joey': {'size': 0.5},\n",
        "        'chandler': {'color': 0x2222ff, 'size': 1.25},\n",
        "        'phoebe': {'color': 0x22ff22},\n",
        "        'rachel': {},\n",
        "        'monica': {},\n",
        "        'jack': {},\n",
        "        'judy': {},\n",
        "    },\n",
        "    'edges': [\n",
        "        {'source': 'chandler', 'target': 'ross'},\n",
        "        {'source': 'monica', 'target': 'ross'},\n",
        "        {'source': 'ross', 'target': 'rachel', 'size': 3, 'color': 0xffaaaa},\n",
        "        {'source': 'ross', 'target': 'joey'},\n",
        "        {'source': 'ross', 'target': 'phoebe'},\n",
        "        {'source': 'ross', 'target': 'judy'},\n",
        "        {'source': 'monica', 'target': 'rachel'},\n",
        "        {'source': 'rachel', 'target': 'jack'},\n",
        "        {'source': 'chandler', 'target': 'phoebe'}\n",
        "    ]\n",
        "}\n",
        "\n",
        "jgraph.draw(graph, size=(600, 400))\n"
      ],
      "execution_count": 0,
      "outputs": [
        {
          "output_type": "error",
          "ename": "NameError",
          "evalue": "ignored",
          "traceback": [
            "\u001b[0;31m---------------------------------------------------------------------------\u001b[0m",
            "\u001b[0;31mNameError\u001b[0m                                 Traceback (most recent call last)",
            "\u001b[0;32m<ipython-input-1-42c919b7dd40>\u001b[0m in \u001b[0;36m<module>\u001b[0;34m()\u001b[0m\n\u001b[1;32m     23\u001b[0m }\n\u001b[1;32m     24\u001b[0m \u001b[0;34m\u001b[0m\u001b[0m\n\u001b[0;32m---> 25\u001b[0;31m \u001b[0mjgraph\u001b[0m\u001b[0;34m.\u001b[0m\u001b[0mdraw\u001b[0m\u001b[0;34m(\u001b[0m\u001b[0mgraph\u001b[0m\u001b[0;34m,\u001b[0m \u001b[0msize\u001b[0m\u001b[0;34m=\u001b[0m\u001b[0;34m(\u001b[0m\u001b[0;36m600\u001b[0m\u001b[0;34m,\u001b[0m \u001b[0;36m400\u001b[0m\u001b[0;34m)\u001b[0m\u001b[0;34m)\u001b[0m\u001b[0;34m\u001b[0m\u001b[0m\n\u001b[0m",
            "\u001b[0;31mNameError\u001b[0m: name 'jgraph' is not defined"
          ]
        }
      ]
    }
  ]
}